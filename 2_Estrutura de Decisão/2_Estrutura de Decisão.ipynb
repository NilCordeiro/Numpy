{
 "cells": [
  {
   "cell_type": "markdown",
   "metadata": {},
   "source": [
    "#### 1. Faça um Programa que peça dois números e imprima o maior deles."
   ]
  },
  {
   "cell_type": "code",
   "execution_count": 1,
   "metadata": {},
   "outputs": [
    {
     "name": "stdin",
     "output_type": "stream",
     "text": [
      "Informe o numero ! 10\n",
      "Informe o numero ! 9\n"
     ]
    },
    {
     "name": "stdout",
     "output_type": "stream",
     "text": [
      "O maior numero é 10\n"
     ]
    }
   ],
   "source": [
    "num1 = int(input('Informe o numero !'))\n",
    "num2 = int(input('Informe o numero !'))\n",
    "\n",
    "if num1 > num2:\n",
    "    print('O maior numero é {}'.format(num1))\n",
    "else:\n",
    "    print('O maior numero é {}'.format(num2))\n"
   ]
  },
  {
   "cell_type": "markdown",
   "metadata": {},
   "source": [
    "#### 2. Faça um Programa que peça um valor e mostre na tela se o valor é positivo ou negativo."
   ]
  },
  {
   "cell_type": "code",
   "execution_count": 5,
   "metadata": {},
   "outputs": [
    {
     "name": "stdin",
     "output_type": "stream",
     "text": [
      "Informe um numero ! -10\n"
     ]
    },
    {
     "name": "stdout",
     "output_type": "stream",
     "text": [
      "Numero negativo -10\n"
     ]
    }
   ],
   "source": [
    "num = int(float(input('Informe um numero !')))\n",
    "\n",
    "if num < 0:\n",
    "    print('Numero negativo {}'.format(num))\n",
    "else:\n",
    "    print('O Numero é positivo {}'.format(num))\n"
   ]
  },
  {
   "cell_type": "markdown",
   "metadata": {},
   "source": [
    "#### 3. Faça um Programa que verifique se uma letra digitada é \"F\" ou \"M\". Conforme a letra escrever: F - Feminino, M - Masculino, Sexo Inválido."
   ]
  },
  {
   "cell_type": "code",
   "execution_count": 26,
   "metadata": {},
   "outputs": [
    {
     "name": "stdout",
     "output_type": "stream",
     "text": [
      "Informe os sexo F- Feminino e M- Masculino\n"
     ]
    },
    {
     "name": "stdin",
     "output_type": "stream",
     "text": [
      "Informe o sexo ! M\n"
     ]
    },
    {
     "name": "stdout",
     "output_type": "stream",
     "text": [
      "M sexo Masculino\n"
     ]
    }
   ],
   "source": [
    "print('Informe os sexo F- Feminino e M- Masculino')\n",
    "\n",
    "sexo = str(input('Informe o sexo !'))\n",
    "    \n",
    "if sexo.upper() == 'F':\n",
    "    print('{} sexo Feminino'.format(sexo))\n",
    "elif sexo.upper() == 'M':\n",
    "    print('{} sexo Masculino'.format(sexo))\n",
    "else:\n",
    "    print('{} sexo invalido'.format(sexo))\n"
   ]
  },
  {
   "cell_type": "markdown",
   "metadata": {},
   "source": [
    "#### 4. Faça um Programa que verifique se uma letra digitada é vogal ou consoante."
   ]
  },
  {
   "cell_type": "code",
   "execution_count": 36,
   "metadata": {},
   "outputs": [
    {
     "name": "stdin",
     "output_type": "stream",
     "text": [
      "Informe a letra ! v\n"
     ]
    },
    {
     "name": "stdout",
     "output_type": "stream",
     "text": [
      "v é uma consoante\n"
     ]
    }
   ],
   "source": [
    "\n",
    "letra = input('Informe a letra !')\n",
    "\n",
    "if letra.upper() in ('A E I O U') :\n",
    "    print('{} é uma vogal'.format(le))\n",
    "else:\n",
    "    print('{} é uma consoante'.format(le))\n"
   ]
  },
  {
   "cell_type": "markdown",
   "metadata": {},
   "source": [
    "#### 5. Faça um programa para a leitura de duas notas parciais de um aluno. O programa deve calcular a média alcançada por aluno e apresentar:\n",
    "    A mensagem \"Aprovado\", se a média alcançada for maior ou igual a sete;\n",
    "    A mensagem \"Reprovado\", se a média for menor do que sete;\n",
    "    A mensagem \"Aprovado com Distinção\", se a média for igual a dez. "
   ]
  },
  {
   "cell_type": "code",
   "execution_count": 42,
   "metadata": {},
   "outputs": [
    {
     "name": "stdin",
     "output_type": "stream",
     "text": [
      "Informe a 1ª nota  10\n",
      "Informe a 2ª nota  10\n"
     ]
    },
    {
     "name": "stdout",
     "output_type": "stream",
     "text": [
      "Média 10.0 aluno Aprovado\n"
     ]
    }
   ],
   "source": [
    "for i in range(1,3):\n",
    "    media = 0\n",
    "    notas = float(input('Informe a {}ª nota '.format(i)))\n",
    "    notas += notas\n",
    "    \n",
    "media = notas /2\n",
    "\n",
    "if media > 7 and media <= 10:\n",
    "    print('Média {} aluno Aprovado'.format(media))\n",
    "    \n",
    "elif media >= 0 and media < 7:\n",
    "    print('Média {} aluno Reprovado'.format(media))\n",
    " "
   ]
  },
  {
   "cell_type": "markdown",
   "metadata": {},
   "source": [
    "#### 6. Faça um Programa que leia três números e mostre o maior deles."
   ]
  },
  {
   "cell_type": "code",
   "execution_count": 2,
   "metadata": {},
   "outputs": [
    {
     "name": "stdin",
     "output_type": "stream",
     "text": [
      "Informe o primeiro numero ! 8\n",
      "Informe o segundo numero ! 9\n",
      "Informe o terceiro numero ! 10\n"
     ]
    },
    {
     "name": "stdout",
     "output_type": "stream",
     "text": [
      "O maior numero é 10\n"
     ]
    }
   ],
   "source": [
    "num1 = int(input('Informe o primeiro numero !'))\n",
    "num2 = int(input('Informe o segundo numero !'))\n",
    "num3 = int(input('Informe o terceiro numero !'))\n",
    "\n",
    "if num1 == num2 and num1 == num3:\n",
    "    print('Os valores são iguais')\n",
    "\n",
    "elif num1 > num2 and num1 > num3:\n",
    "    print('O maior numero é {}'.format(num1))\n",
    "    \n",
    "elif num2 > num1 and num2 > num3:\n",
    "    print('O maior numero é {}'.format(num2))\n",
    "    \n",
    "else:\n",
    "    print('O maior numero é {}'.format(num3))\n"
   ]
  },
  {
   "cell_type": "markdown",
   "metadata": {},
   "source": [
    "#### 7. Faça um Programa que leia três números e mostre o maior e o menor deles."
   ]
  },
  {
   "cell_type": "code",
   "execution_count": 4,
   "metadata": {},
   "outputs": [
    {
     "name": "stdin",
     "output_type": "stream",
     "text": [
      "Informe o primeiro numero ! 10\n",
      "Informe o segundo numero ! 12\n",
      "Informe o terceiro numero ! 55\n"
     ]
    },
    {
     "name": "stdout",
     "output_type": "stream",
     "text": [
      "O maior numero é 55\n",
      "O menor numnero menor é 10\n"
     ]
    }
   ],
   "source": [
    "num1 = int(input('Informe o primeiro numero !'))\n",
    "num2 = int(input('Informe o segundo numero !'))\n",
    "num3 = int(input('Informe o terceiro numero !'))\n",
    "\n",
    "if num1 == num2 and num1 == num3:\n",
    "    print('Os valores são iguais')\n",
    "else:\n",
    "    \n",
    "    elif num1 > num2 and num1 > num3:\n",
    "        print('O maior numero é {}'.format(num1))\n",
    "\n",
    "    elif num2 > num1 and num2 > num3:\n",
    "        print('O maior numero é {}'.format(num2))\n",
    "\n",
    "    else:\n",
    "        print('O maior numero é {}'.format(num3))\n",
    "\n",
    "    if num1 < num2 and num1 < num3:\n",
    "        print('O menor numnero menor é {}'.format(num1))\n",
    "\n",
    "    elif num2 < num1 and num2 < num3:\n",
    "        print('O menor numero é {}'.format(num2))\n",
    "\n",
    "    else:\n",
    "        print('O menor numero é {}'.format(num3))\n"
   ]
  },
  {
   "cell_type": "markdown",
   "metadata": {},
   "source": [
    "#### 8. Faça um programa que pergunte o preço de três produtos e informe qual produto você deve comprar, sabendo que a decisão é sempre pelo mais barato."
   ]
  },
  {
   "cell_type": "code",
   "execution_count": 9,
   "metadata": {},
   "outputs": [
    {
     "name": "stdin",
     "output_type": "stream",
     "text": [
      "Informe o preço do produto R$ : 1600\n",
      "Informe o preço do produto R$ : 2000\n",
      "Informe o preço do produto R$ : 3500\n"
     ]
    },
    {
     "name": "stdout",
     "output_type": "stream",
     "text": [
      "Você deve compra o produto A 1600.0\n"
     ]
    }
   ],
   "source": [
    "produto1 = float(input('Informe o preço do produto R$ :'))\n",
    "produto2 = float(input('Informe o preço do produto R$ :'))\n",
    "produto3 = float(input('Informe o preço do produto R$ :'))\n",
    "\n",
    "if produto1 == produto2 and produto1 == produto3:\n",
    "    print('Não podemos informa, valores iguais !')\n",
    "    \n",
    "else:\n",
    "    if produto1 < produto2 and produto1 < produto3:\n",
    "        print('Você deve compra o produto A {}'.format(produto1))\n",
    "        \n",
    "    elif produto2 < produto1 and produto2 < produto3:\n",
    "        print('Você deve compra o produto B {}'.format(produto2))\n",
    "        \n",
    "    else:\n",
    "        print('Você deve compra o produto C {}'.format(produto3))\n",
    "        "
   ]
  },
  {
   "cell_type": "markdown",
   "metadata": {},
   "source": [
    "#### 9. Faça um Programa que pergunte em que turno você estuda. Peça para digitar M-matutino ou V-Vespertino ou N- Noturno. Imprima a mensagem \"Bom Dia!\", \"Boa Tarde!\" ou \"Boa Noite!\" ou \"Valor Inválido!\", conforme o caso."
   ]
  },
  {
   "cell_type": "code",
   "execution_count": 13,
   "metadata": {},
   "outputs": [
    {
     "name": "stdout",
     "output_type": "stream",
     "text": [
      "Informe o turno [M]- Matuino [V]- Vespertino [N]- Noturno\n"
     ]
    },
    {
     "name": "stdin",
     "output_type": "stream",
     "text": [
      "Informe o seu turno de estudo ! M\n"
     ]
    },
    {
     "name": "stdout",
     "output_type": "stream",
     "text": [
      "Bom dia !\n"
     ]
    }
   ],
   "source": [
    "print('Informe o turno [M]- Matuino [V]- Vespertino [N]- Noturno')\n",
    "turnos = ['M','V','N']\n",
    "turno = str(input('Informe o seu turno de estudo !'))\n",
    "\n",
    "if turno.upper() not in turnos:\n",
    "    print('Informe um valor valido !')\n",
    "else:\n",
    "    if turno == 'M':\n",
    "        print('Bom dia !')\n",
    "    \n",
    "    elif turno =='V':\n",
    "        print('Boa tarde !')\n",
    "    \n",
    "    elif turno == 'N':\n",
    "        print('Boa noite')"
   ]
  },
  {
   "cell_type": "markdown",
   "metadata": {},
   "source": [
    "#### 10. As Organizações Tabajara resolveram dar um aumento de salário aos seus colaboradores e lhe contraram para desenvolver o programa que calculará os reajustes.\n",
    "    Faça um programa que recebe o salário de um colaborador e o reajuste segundo o seguinte critério, baseado no salário atual:\n",
    "    \n",
    "    salários até R$ 280,00 (incluindo) : aumento de 20%\n",
    "    salários entre R$ 280,00 e R$ 700,00 : aumento de 15%\n",
    "    salários entre R$ 700,00 e R$ 1500,00 : aumento de 10%\n",
    "    salários de R$ 1500,00 em diante : aumento de 5% Após o aumento ser realizado, informe na tela:\n",
    "    \n",
    "    o salário antes do reajuste;\n",
    "    o percentual de aumento aplicado;\n",
    "    o valor do aumento;\n",
    "    o novo salário, após o aumento."
   ]
  },
  {
   "cell_type": "code",
   "execution_count": 19,
   "metadata": {},
   "outputs": [
    {
     "name": "stdin",
     "output_type": "stream",
     "text": [
      "Informe o salario do funcionario R$ : 1200\n"
     ]
    },
    {
     "name": "stdout",
     "output_type": "stream",
     "text": [
      "Com salario de R$ 1200.0 você teve o percentuade de 10% obteve um aumento de R$ 240.0 novo salario de R$ 1440.0\n"
     ]
    }
   ],
   "source": [
    "salario = 0\n",
    "aumento = 0\n",
    "salario = float(input('Informe o salario do funcionario R$ :'))\n",
    "\n",
    "if salario <= 280:\n",
    "    per = 20\n",
    "    \n",
    "elif salario <= 700:\n",
    "    per = 15\n",
    "    \n",
    "elif salario <= 1500:\n",
    "    per = 10\n",
    "    \n",
    "elif salario > 1500:\n",
    "    per = 5\n",
    "    \n",
    "aumento = salario * (20 / 100)\n",
    "novo_salario = salario + aumento\n",
    "\n",
    "print('Com salario de R$ {} você teve o percentuade de {}% obteve um aumento de R$ {} novo salario de R$ {}'.format(salario,per,aumento,novo_salario))\n"
   ]
  },
  {
   "cell_type": "code",
   "execution_count": null,
   "metadata": {},
   "outputs": [],
   "source": []
  }
 ],
 "metadata": {
  "kernelspec": {
   "display_name": "Python 3",
   "language": "python",
   "name": "python3"
  },
  "language_info": {
   "codemirror_mode": {
    "name": "ipython",
    "version": 3
   },
   "file_extension": ".py",
   "mimetype": "text/x-python",
   "name": "python",
   "nbconvert_exporter": "python",
   "pygments_lexer": "ipython3",
   "version": "3.7.1"
  }
 },
 "nbformat": 4,
 "nbformat_minor": 2
}
