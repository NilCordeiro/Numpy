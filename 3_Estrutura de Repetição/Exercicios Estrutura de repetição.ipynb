{
 "cells": [
  {
   "cell_type": "markdown",
   "metadata": {},
   "source": [
    "## Jupyter para exercicios Estrutura de Repetição"
   ]
  },
  {
   "cell_type": "markdown",
   "metadata": {},
   "source": [
    "Faça um programa que peça uma nota, entre zero e dez. Mostre uma mensagem caso o valor seja inválido e continue pedindo até que o usuário informe um valor válido."
   ]
  },
  {
   "cell_type": "code",
   "execution_count": 5,
   "metadata": {},
   "outputs": [
    {
     "name": "stdin",
     "output_type": "stream",
     "text": [
      "Informa a nota ! 15\n",
      "Informa a nota ! 15\n",
      "Informa a nota ! 2\n"
     ]
    }
   ],
   "source": [
    "nota = - 1\n",
    "while (nota < 0 ) or (nota > 10):\n",
    "    nota = int(input('Informa a nota !'))\n",
    "    if nota < 0 and nota > 10:\n",
    "        print('Nota invalida')\n"
   ]
  },
  {
   "cell_type": "markdown",
   "metadata": {},
   "source": [
    "Faça um programa que leia um nome de usuário e a sua senha e não aceite a senha igual ao nome do usuário, mostrando uma mensagem de erro e voltando a pedir as informações."
   ]
  },
  {
   "cell_type": "code",
   "execution_count": 6,
   "metadata": {},
   "outputs": [
    {
     "name": "stdin",
     "output_type": "stream",
     "text": [
      "Informe o ussuaio nil\n",
      "Informa a senha 123\n"
     ]
    }
   ],
   "source": [
    "senha = ussuario = ''\n",
    "\n",
    "while (ussuario == senha):\n",
    "    ussuario = str(input('Informe o ussuaio'))\n",
    "    senha = str(input('Informa a senha'))\n",
    "    if ussuario == senha:\n",
    "        print('Ussuario não pode ser iqual a senha')\n"
   ]
  },
  {
   "cell_type": "markdown",
   "metadata": {},
   "source": [
    "Faça um programa que leia e valide as seguintes informações:\n",
    "\n",
    "    Nome: maior que 3 caracteres;\n",
    "    Idade: entre 0 e 150;\n",
    "    Salário: maior que zero;\n",
    "    Sexo: 'f' ou 'm';\n",
    "    Estado Civil: 's', 'c', 'v', 'd';"
   ]
  },
  {
   "cell_type": "code",
   "execution_count": 4,
   "metadata": {},
   "outputs": [
    {
     "name": "stdin",
     "output_type": "stream",
     "text": [
      "Informe o nome ! jose aldanildo\n",
      "Informe Idade ! 34\n",
      "Informe salario ! 1200\n",
      "Informe o sexo ! m\n"
     ]
    }
   ],
   "source": [
    "nome = ''\n",
    "\n",
    "while (len(nome)<= 3):\n",
    "    nome = str(input('Informe o nome !').upper())\n",
    "    if (len(nome) <= 3):\n",
    "        print('O nome deve conter mais de três letras !')\n",
    "        \n",
    "idade = - 1\n",
    "\n",
    "while (idade < 0) or (idade > 150):\n",
    "    idade = int(input('Informe Idade !'))\n",
    "    if idade < 0 or idade > 150:\n",
    "        print('Idade deve estar entre 0 e 150')\n",
    "salario = 0\n",
    "\n",
    "while salario <= 0:\n",
    "    salario = int(input('Informe salario !'))\n",
    "    if salario <= 0:\n",
    "        print('Salario deve ser maior que 0')\n",
    "        \n",
    "sexo = ''\n",
    "\n",
    "while (sexo != \"F\") and (sexo != \"M\"):\n",
    "    sexo = str(input('Informe o sexo !').upper())\n",
    "    if (sexo != \"F\") and (sexo != \"M\"):\n",
    "        print('O sexo deve ser M para (masculino) e F para (Feminino)')\n",
    "    "
   ]
  },
  {
   "cell_type": "markdown",
   "metadata": {},
   "source": [
    "Supondo que a população de um país A seja da ordem de 80000 habitantes com uma taxa anual de crescimento de 3% e que a população de B seja 200000 habitantes com uma taxa de crescimento de 1.5%. Faça um programa que calcule e escreva o número de anos necessários para que a população do país A ultrapasse ou iguale a população do país B, mantidas as taxas de crescimento."
   ]
  },
  {
   "cell_type": "code",
   "execution_count": 3,
   "metadata": {},
   "outputs": [
    {
     "name": "stdout",
     "output_type": "stream",
     "text": [
      "Serão necessario 64 para que a população do pais a ultrapase o pais b\n"
     ]
    }
   ],
   "source": [
    "Populacao_A = 80000\n",
    "Populacao_B = 200000\n",
    "t_cresA = 1.03\n",
    "t_cresB = 1.015\n",
    "ano = 1\n",
    "\n",
    "while (Populacao_A <= Populacao_B):\n",
    "    Populacao_A *= t_cresA\n",
    "    Populacao_B *= t_cresB\n",
    "    ano += 1\n",
    "         \n",
    "print('Serão necessario', ano,'para que a população do pais a ultrapase o pais b')"
   ]
  },
  {
   "cell_type": "markdown",
   "metadata": {},
   "source": [
    "Altere o programa anterior permitindo ao usuário informar as populações e as taxas de crescimento iniciais. Valide a entrada e permita repetir a operação."
   ]
  },
  {
   "cell_type": "code",
   "execution_count": 10,
   "metadata": {},
   "outputs": [
    {
     "name": "stdin",
     "output_type": "stream",
     "text": [
      "Informa a população A 80000\n",
      "Informe a população B 200000\n",
      "Informa a taxa de crescimento do pais A 1.03\n",
      "Informe a taxa de crescimento do pais B 1.015\n"
     ]
    },
    {
     "name": "stdout",
     "output_type": "stream",
     "text": [
      "Serão necessarios 63 anos para que o pais A ultrapasse a do pais B\n"
     ]
    }
   ],
   "source": [
    "populacao_a = int(input('Informa a população A'))\n",
    "populacao_b = int(input('Informe a população B'))\n",
    "taxa_a = float(input('Informa a taxa de crescimento do pais A'))\n",
    "taxa_b = float(input('Informe a taxa de crescimento do pais B'))\n",
    "anos = 0\n",
    "while populacao_a <= populacao_b:\n",
    "    populacao_a *= taxa_a\n",
    "    populacao_b *= taxa_b\n",
    "    \n",
    "    anos += 1 \n",
    "\n",
    "print('Serão necessarios {} anos para que o pais A ultrapasse a do pais B'.format(anos))\n"
   ]
  },
  {
   "cell_type": "code",
   "execution_count": 15,
   "metadata": {},
   "outputs": [
    {
     "name": "stdin",
     "output_type": "stream",
     "text": [
      "Informa o tamanho da população do pais A 80000\n",
      "Informe a taxa de crescimento pais A 3\n",
      "Informe o tamanho da população do pais B 200000\n",
      "Informe a taxa de crescimento da população do pais B 1.5\n"
     ]
    },
    {
     "name": "stdout",
     "output_type": "stream",
     "text": [
      "Serão necessario 8 anos para que o pais A ultrapasse a população do pais B\n"
     ]
    }
   ],
   "source": [
    "popula_a =0\n",
    "popula_b =0\n",
    "taxa_cresA = 0\n",
    "taxa_cresB = 0\n",
    "\n",
    "while popula_a <= 0:\n",
    "    popula_a = int(input('Informa o tamanho da população do pais A'))\n",
    "    if popula_a <= 0:\n",
    "        print('Informe um valor maio que zero')\n",
    "while taxa_cresA <= 0:\n",
    "    taxa_cresA = float(input('Informe a taxa de crescimento pais A'))\n",
    "    if taxa_cresA <= 0:\n",
    "        print('Informe um valor maior que zero')\n",
    "while popula_b <= 0 or popula_b < popula_a:\n",
    "    popula_b = int(input('Informe o tamanho da população do pais B'))\n",
    "    if popula_b <= 0:\n",
    "        print('Informe um valor maior que zero')\n",
    "    if popula_b < popula_a:\n",
    "        print('O valor da pupalaçãa B não pode ser menor que o da população A')\n",
    "while taxa_cresB <= 0:\n",
    "    taxa_cresB = float(input('Informe a taxa de crescimento da população do pais B'))\n",
    "    if taxa_cresB <= 0:\n",
    "        print('Informe um valor maior que zero')\n",
    "\n",
    "anos = 1\n",
    "\n",
    "while popula_a < popula_b:\n",
    "    popula_a *= 1 + (popula_a / 100.0)\n",
    "    popula_b *= 1 + (popula_b / 100.0)\n",
    "    \n",
    "    anos += 1\n",
    "print(f'Serão necessario {anos} anos para que o pais A ultrapasse a população do pais B')\n",
    "    "
   ]
  },
  {
   "cell_type": "markdown",
   "metadata": {},
   "source": [
    "Faça um programa que imprima na tela os números de 1 a 20, um abaixo do outro. Depois modifique o programa para que ele mostre os números um ao lado do outro."
   ]
  },
  {
   "cell_type": "code",
   "execution_count": 29,
   "metadata": {},
   "outputs": [
    {
     "name": "stdout",
     "output_type": "stream",
     "text": [
      "1\n",
      "2\n",
      "3\n",
      "4\n",
      "5\n",
      "6\n",
      "7\n",
      "8\n",
      "9\n",
      "10\n",
      "11\n",
      "12\n",
      "13\n",
      "14\n",
      "15\n",
      "16\n",
      "17\n",
      "18\n",
      "19\n",
      "20\n"
     ]
    }
   ],
   "source": [
    "for i in range(1,21):\n",
    "    print (i,) "
   ]
  },
  {
   "cell_type": "markdown",
   "metadata": {},
   "source": [
    "#### Faça um programa que leia 5 números e informe o maior número."
   ]
  },
  {
   "cell_type": "code",
   "execution_count": 4,
   "metadata": {},
   "outputs": [
    {
     "name": "stdin",
     "output_type": "stream",
     "text": [
      "Informe os numeros 1º 15\n",
      "Informe os numeros 2º 25\n",
      "Informe os numeros 3º 35\n",
      "Informe os numeros 4º 50\n",
      "Informe os numeros 5º 9\n"
     ]
    },
    {
     "name": "stdout",
     "output_type": "stream",
     "text": [
      "O maio numero que você digitou é 50\n"
     ]
    }
   ],
   "source": [
    "num = []\n",
    "\n",
    "for i in range(1,6):\n",
    "    numero = int(input('Informe os numeros {}º'.format(i)))\n",
    "    num.append(numero)\n",
    "maior = np.max(num)\n",
    "    \n",
    "print('O maio numero que você digitou é {}'.format(maior))"
   ]
  },
  {
   "cell_type": "code",
   "execution_count": 2,
   "metadata": {},
   "outputs": [],
   "source": [
    "import numpy as np"
   ]
  },
  {
   "cell_type": "markdown",
   "metadata": {},
   "source": [
    "#### Faça um programa que leia 5 números e informe a soma e a média dos números."
   ]
  },
  {
   "cell_type": "code",
   "execution_count": 6,
   "metadata": {},
   "outputs": [
    {
     "name": "stdin",
     "output_type": "stream",
     "text": [
      "Informe os numeros 1º 50\n",
      "Informe os numeros 2º 100\n",
      "Informe os numeros 3º 150\n",
      "Informe os numeros 4º 200\n",
      "Informe os numeros 5º 15\n"
     ]
    },
    {
     "name": "stdout",
     "output_type": "stream",
     "text": [
      "O resultado da soma é 515 e a media é 103.0\n"
     ]
    }
   ],
   "source": [
    "numero = 0\n",
    "lista = []\n",
    "\n",
    "for i in range(1,6):\n",
    "    numero = int(input('Informe os numeros {}º'.format(i)))\n",
    "    lista.append(numero)\n",
    "soma = np.sum(lista)\n",
    "media = np.mean(lista)\n",
    "print('O resultado da soma é {} e a media é {}'.format(soma,media))\n"
   ]
  },
  {
   "cell_type": "markdown",
   "metadata": {},
   "source": [
    "#### outra maneira "
   ]
  },
  {
   "cell_type": "code",
   "execution_count": 16,
   "metadata": {},
   "outputs": [
    {
     "name": "stdin",
     "output_type": "stream",
     "text": [
      "Informe um numero:  10\n",
      "Informe um numero:  10\n",
      "Informe um numero:  10\n",
      "Informe um numero:  10\n",
      "Informe um numero:  10\n"
     ]
    },
    {
     "name": "stdout",
     "output_type": "stream",
     "text": [
      "O resultado da soma é de 50 e a méida é 10.0\n"
     ]
    }
   ],
   "source": [
    "soma = 0\n",
    "for i in range(0, 5):\n",
    "    numero = int(input('Informe um numero: '))\n",
    "    soma += numero\n",
    "media = (soma / 5)\n",
    "print('O resultado da soma é de {} e a méida é {}'.format(soma,media))\n"
   ]
  },
  {
   "cell_type": "markdown",
   "metadata": {},
   "source": [
    "#### Faça um programa que imprima na tela apenas os números ímpares entre 1 e 50."
   ]
  },
  {
   "cell_type": "code",
   "execution_count": 18,
   "metadata": {},
   "outputs": [
    {
     "name": "stdout",
     "output_type": "stream",
     "text": [
      "Os numeros impares são 1\n",
      "Os numeros impares são 3\n",
      "Os numeros impares são 5\n",
      "Os numeros impares são 7\n",
      "Os numeros impares são 9\n",
      "Os numeros impares são 11\n",
      "Os numeros impares são 13\n",
      "Os numeros impares são 15\n",
      "Os numeros impares são 17\n",
      "Os numeros impares são 19\n",
      "Os numeros impares são 21\n",
      "Os numeros impares são 23\n",
      "Os numeros impares são 25\n",
      "Os numeros impares são 27\n",
      "Os numeros impares são 29\n",
      "Os numeros impares são 31\n",
      "Os numeros impares são 33\n",
      "Os numeros impares são 35\n",
      "Os numeros impares são 37\n",
      "Os numeros impares são 39\n",
      "Os numeros impares são 41\n",
      "Os numeros impares são 43\n",
      "Os numeros impares são 45\n",
      "Os numeros impares são 47\n",
      "Os numeros impares são 49\n"
     ]
    }
   ],
   "source": [
    "for i in range(1,50):\n",
    "    if (i % 2 !=0):\n",
    "        print('Os numeros impares são {}'.format(i))"
   ]
  },
  {
   "cell_type": "markdown",
   "metadata": {},
   "source": [
    "#### Desenvolva um gerador de tabuada, capaz de gerar a tabuada de qualquer número inteiro entre 1 a 10. O usuário deve informar de qual numero ele deseja ver a tabuada. A saída deve ser conforme o exemplo abaixo:"
   ]
  },
  {
   "cell_type": "code",
   "execution_count": 20,
   "metadata": {},
   "outputs": [
    {
     "name": "stdout",
     "output_type": "stream",
     "text": [
      "Tabuada escolha os numero que quer ver a tabuada\n"
     ]
    },
    {
     "name": "stdin",
     "output_type": "stream",
     "text": [
      "Informa a o numero ! 5\n"
     ]
    },
    {
     "name": "stdout",
     "output_type": "stream",
     "text": [
      "tabuada 1 x 5 = 5\n",
      "tabuada 2 x 5 = 10\n",
      "tabuada 3 x 5 = 15\n",
      "tabuada 4 x 5 = 20\n",
      "tabuada 5 x 5 = 25\n",
      "tabuada 6 x 5 = 30\n",
      "tabuada 7 x 5 = 35\n",
      "tabuada 8 x 5 = 40\n",
      "tabuada 9 x 5 = 45\n",
      "tabuada 10 x 5 = 50\n"
     ]
    }
   ],
   "source": [
    "print('Tabuada escolha os numero que quer ver a tabuada')\n",
    "\n",
    "num = int(input('Informa a o numero !'))\n",
    "res = 0\n",
    "for i in range(1,11):\n",
    "    if num <= 0 or num > 10:\n",
    "        print('Numero invalido, digite entre zero e dez !')\n",
    "    res = i * num\n",
    "    print('tabuada {} x {} = {}'.format(i,num,res))"
   ]
  },
  {
   "cell_type": "markdown",
   "metadata": {},
   "source": [
    "#### Faça um programa que peça 10 números inteiros, calcule e mostre a quantidade de números pares e a quantidade de números impares."
   ]
  },
  {
   "cell_type": "code",
   "execution_count": 24,
   "metadata": {},
   "outputs": [
    {
     "name": "stdin",
     "output_type": "stream",
     "text": [
      "Informe os numeros 5\n",
      "Informe os numeros 9\n",
      "Informe os numeros 11\n",
      "Informe os numeros 13\n",
      "Informe os numeros 26\n",
      "Informe os numeros 99\n",
      "Informe os numeros 299\n",
      "Informe os numeros 3\n",
      "Informe os numeros 1\n",
      "Informe os numeros 7\n"
     ]
    },
    {
     "name": "stdout",
     "output_type": "stream",
     "text": [
      "A quantidade de numeros pares são 1 e de impares são 9\n"
     ]
    }
   ],
   "source": [
    "num = 0\n",
    "pares = 0\n",
    "impares = 0\n",
    "\n",
    "for i in range(0,10):\n",
    "    num = int(input('Informe os numeros'))\n",
    "    if num % 2 == 0:\n",
    "        pares += 1\n",
    "    elif num % 2 !== 0:\n",
    "        impares += 1 \n",
    "        \n",
    "print('A quantidade de numeros pares são {} e de impares são {}'.format(pares,impares))\n"
   ]
  },
  {
   "cell_type": "code",
   "execution_count": null,
   "metadata": {},
   "outputs": [],
   "source": []
  }
 ],
 "metadata": {
  "kernelspec": {
   "display_name": "Python 3",
   "language": "python",
   "name": "python3"
  },
  "language_info": {
   "codemirror_mode": {
    "name": "ipython",
    "version": 3
   },
   "file_extension": ".py",
   "mimetype": "text/x-python",
   "name": "python",
   "nbconvert_exporter": "python",
   "pygments_lexer": "ipython3",
   "version": "3.7.1"
  }
 },
 "nbformat": 4,
 "nbformat_minor": 2
}
