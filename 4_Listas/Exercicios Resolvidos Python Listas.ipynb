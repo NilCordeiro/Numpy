{
 "cells": [
  {
   "cell_type": "markdown",
   "metadata": {},
   "source": [
    "## EXERCICIOS DE LISTAS"
   ]
  },
  {
   "cell_type": "markdown",
   "metadata": {},
   "source": [
    "#### 1. Faça um Programa que leia um vetor de 5 números inteiros e mostre-os"
   ]
  },
  {
   "cell_type": "code",
   "execution_count": 1,
   "metadata": {},
   "outputs": [
    {
     "name": "stdin",
     "output_type": "stream",
     "text": [
      "Informe os numeros ! 10\n",
      "Informe os numeros ! 20\n",
      "Informe os numeros ! 30\n",
      "Informe os numeros ! 40\n",
      "Informe os numeros ! 50\n"
     ]
    },
    {
     "name": "stdout",
     "output_type": "stream",
     "text": [
      "[10, 20, 30, 40, 50]\n"
     ]
    }
   ],
   "source": [
    "num = []\n",
    "\n",
    "for i in range(0,5):\n",
    "    numeros = append(int(input('Informe os numeros !'))\n",
    "    \n",
    "print(num)\n"
   ]
  },
  {
   "cell_type": "markdown",
   "metadata": {},
   "source": [
    "#### 2. Faça um Programa que leia um vetor de 10 números reais e mostre-os na ordem inversa."
   ]
  },
  {
   "cell_type": "code",
   "execution_count": 7,
   "metadata": {},
   "outputs": [
    {
     "name": "stdin",
     "output_type": "stream",
     "text": [
      "Informe os numeros ! 1\n",
      "Informe os numeros ! 2\n",
      "Informe os numeros ! 3\n",
      "Informe os numeros ! 4\n",
      "Informe os numeros ! 5\n",
      "Informe os numeros ! 6\n",
      "Informe os numeros ! 7\n",
      "Informe os numeros ! 8\n",
      "Informe os numeros ! 9\n",
      "Informe os numeros ! 10\n"
     ]
    },
    {
     "name": "stdout",
     "output_type": "stream",
     "text": [
      "[10, 9, 8, 7, 6, 5, 4, 3, 2, 1, 10, 9, 8, 7, 6, 5, 4, 3, 2, 1]\n"
     ]
    }
   ],
   "source": [
    "num = []\n",
    "\n",
    "for i in range(0,10):\n",
    "    num.append(int(input('Informe os numeros !')))\n",
    "num.reverse()\n",
    "print(num)"
   ]
  },
  {
   "cell_type": "markdown",
   "metadata": {},
   "source": [
    "#### 3. Faça um Programa que leia 4 notas, mostre as notas e a média na tela."
   ]
  },
  {
   "cell_type": "code",
   "execution_count": null,
   "metadata": {},
   "outputs": [],
   "source": [
    "notas = []\n",
    "soma = 0.0\n",
    "\n",
    "for i in range(5):\n",
    "    notas.append(float(input('Informe as notas {}!'.format(i))))\n",
    "    soma += notas\n",
    "\n",
    "\n",
    "print(soma)"
   ]
  },
  {
   "cell_type": "markdown",
   "metadata": {},
   "source": [
    "#### 4. Faça um Programa que leia um vetor de 10 caracteres, e diga quantas consoantes foram lidas. Imprima as consoantes"
   ]
  },
  {
   "cell_type": "code",
   "execution_count": 15,
   "metadata": {},
   "outputs": [
    {
     "name": "stdin",
     "output_type": "stream",
     "text": [
      "Informe as letras ! r\n",
      "Informe as letras ! a\n",
      "Informe as letras ! e\n",
      "Informe as letras ! i\n",
      "Informe as letras ! d\n",
      "Informe as letras ! f\n",
      "Informe as letras ! w\n",
      "Informe as letras ! q\n",
      "Informe as letras ! v\n",
      "Informe as letras ! b\n"
     ]
    },
    {
     "name": "stdout",
     "output_type": "stream",
     "text": [
      "Você digitou ['R', 'D', 'F', 'W', 'Q', 'V', 'B'] total de consoantes 7\n",
      "['R', 'D', 'F', 'W', 'Q', 'V', 'B']\n"
     ]
    }
   ],
   "source": [
    "letras = []\n",
    "vogais = ['A','E','I','O','U']\n",
    "total_con = 0\n",
    "consoantes = []\n",
    "\n",
    "for i in range(0,10):\n",
    "    letras.append(input('Informe as letras !').upper())\n",
    "\n",
    "    if letras[i] not in vogais:\n",
    "        consoantes.append(letras[i])\n",
    "        total_con += 1 \n",
    "\n",
    "print('Você digitou {} total de consoantes {}'.format(consoantes,total_con))\n",
    "print(consoantes)\n"
   ]
  },
  {
   "cell_type": "markdown",
   "metadata": {},
   "source": [
    "#### 5. Faça um Programa que leia 20 números inteiros e armazene-os num vetor. Armazene os números pares no vetor PAR e os números IMPARES no vetor impar. Imprima os três vetores."
   ]
  },
  {
   "cell_type": "code",
   "execution_count": 27,
   "metadata": {},
   "outputs": [
    {
     "name": "stdin",
     "output_type": "stream",
     "text": [
      "Informe os numeros  10\n",
      "Informe os numeros  15\n",
      "Informe os numeros  13\n",
      "Informe os numeros  13\n",
      "Informe os numeros  15\n",
      "Informe os numeros  20\n",
      "Informe os numeros  21\n",
      "Informe os numeros  23\n",
      "Informe os numeros  98\n",
      "Informe os numeros  100\n",
      "Informe os numeros  14\n",
      "Informe os numeros  16\n",
      "Informe os numeros  13\n",
      "Informe os numeros  17\n",
      "Informe os numeros  19\n",
      "Informe os numeros  21\n",
      "Informe os numeros  29\n",
      "Informe os numeros  33\n",
      "Informe os numeros  44\n",
      "Informe os numeros  54\n"
     ]
    },
    {
     "name": "stdout",
     "output_type": "stream",
     "text": [
      "Os numeros informados são [10, 15, 13, 13, 15, 20, 21, 23, 98, 100, 14, 16, 13, 17, 19, 21, 29, 33, 44, 54]\n",
      "Os numeros pares [10, 20, 98, 100, 14, 16, 44, 54] e os numeros inpares [15, 13, 13, 15, 21, 23, 13, 17, 19, 21, 29, 33]\n"
     ]
    }
   ],
   "source": [
    "num = []\n",
    "par = []\n",
    "impa = []\n",
    "numero = 0\n",
    "\n",
    "for i in range(20):\n",
    "    num.append(int(input('Informe os numeros ')))\n",
    "    numero = num[i]\n",
    "    if (numero % 2 == 0):\n",
    "        par.append(numero)\n",
    "    else:\n",
    "        impa.append(numero)\n",
    "        \n",
    "print('Os numeros informados são {}'.format(num))\n",
    "print('Os numeros pares {} e os numeros inpares {}'.format(par,impa))        "
   ]
  },
  {
   "cell_type": "markdown",
   "metadata": {},
   "source": [
    "#### 6.Faça um Programa que peça as quatro notas de 10 alunos, calcule e armazene num vetor a média de cada aluno, imprima o número de alunos com média maior ou igual a 7.0."
   ]
  },
  {
   "cell_type": "code",
   "execution_count": null,
   "metadata": {},
   "outputs": [],
   "source": [
    "notas = []\n",
    "soma = 0\n",
    "media = 0\n",
    "\n",
    "for i in range(1,11):\n",
    "    media = 0\n",
    "    notas_al = []\n",
    "    for n in range(4):\n",
    "        notas_al.append(float(input('Aluno {} Informe as notas !'.format(i))))\n",
    "        media += notas_al[n]\n",
    "        media = media / 4\n",
    "    notas.append(notas_al)\n",
    "    print('A media do aluno é {}'.format(media))\n",
    "print('As notas dos alunos são {}'.format(notas))\n"
   ]
  },
  {
   "cell_type": "markdown",
   "metadata": {},
   "source": [
    "#### 7. Faça um Programa que leia dois vetores com 10 elementos cada. Gere um terceiro vetor de 20 elementos, cujos valores deverão ser compostos pelos elementos intercalados dos dois outros vetores."
   ]
  },
  {
   "cell_type": "code",
   "execution_count": 7,
   "metadata": {},
   "outputs": [
    {
     "name": "stdin",
     "output_type": "stream",
     "text": [
      "Informe os numeros ! 10\n",
      "Informe os numeros ! 10\n",
      "Informe os numeros ! 20\n",
      "Informe os numeros ! 30\n",
      "Informe os numeros ! 45\n",
      "Informe os numeros ! 46\n",
      "Informe os numeros ! 50\n",
      "Informe os numeros ! 21\n",
      "Informe os numeros ! 95\n",
      "Informe os numeros ! 97\n",
      "Informe os numeros ! 35\n",
      "Informe os numeros ! 32\n",
      "Informe os numeros ! 32\n",
      "Informe os numeros ! 32\n",
      "Informe os numeros ! 15\n",
      "Informe os numeros ! 15\n",
      "Informe os numeros ! 98\n",
      "Informe os numeros ! 87\n",
      "Informe os numeros ! 88\n",
      "Informe os numeros ! 99\n"
     ]
    },
    {
     "name": "stdout",
     "output_type": "stream",
     "text": [
      "['10', '10', '20', '30', '45', '46', '50', '21', '95', '97']\n",
      "['35', '32', '32', '32', '15', '15', '98', '87', '88', '99']\n",
      "['10', '35', '10', '32', '20', '32', '30', '32', '45', '15', '46', '15', '50', '98', '21', '87', '95', '88', '97', '99']\n"
     ]
    }
   ],
   "source": [
    "lista1 = []\n",
    "lista2 = []\n",
    "lista3 = []\n",
    "\n",
    "for i in range(10):\n",
    "    lista1.append(input('Informe os numeros !'))\n",
    "for j in range(10):\n",
    "    lista2.append(input('Informe os numeros !'))\n",
    "for n in range(10):\n",
    "    lista3.append(lista1[n])\n",
    "    lista3.append(lista2[n])\n",
    "    \n",
    "print(lista1)\n",
    "print(lista2)\n",
    "print(lista3)"
   ]
  },
  {
   "cell_type": "markdown",
   "metadata": {},
   "source": [
    "#### 8. Altere o programa anterior, intercalando 3 vetores de 10 elementos cada."
   ]
  },
  {
   "cell_type": "markdown",
   "metadata": {},
   "source": [
    "#### 9. Foram anotadas as idades e alturas de 30 alunos. Faça um Programa que determine quantos alunos com mais de 13 anos possuem altura inferior à média de altura desses alunos. "
   ]
  },
  {
   "cell_type": "code",
   "execution_count": 17,
   "metadata": {},
   "outputs": [
    {
     "name": "stdin",
     "output_type": "stream",
     "text": [
      "Informe a idade do aluno 0 35\n",
      "Informe a altura do aluno 0 1.7\n",
      "Informe a idade do aluno 1 35\n",
      "Informe a altura do aluno 1 1.80\n",
      "Informe a idade do aluno 2 32\n",
      "Informe a altura do aluno 2 1.90\n",
      "Informe a idade do aluno 3 12\n",
      "Informe a altura do aluno 3 1.60\n",
      "Informe a idade do aluno 4 10\n",
      "Informe a altura do aluno 4 1.40\n"
     ]
    },
    {
     "name": "stdout",
     "output_type": "stream",
     "text": [
      "Existem 0 alunos com mais de 13 acima da média de altura \n"
     ]
    }
   ],
   "source": [
    "totalAlunos = 5\n",
    "alunos = []\n",
    "\n",
    "for i in range(0,totalAlunos):\n",
    "    aluno = []\n",
    "    aluno.append(int(input('Informe a idade do aluno {}'.format(i))))\n",
    "    aluno.append(float(input('Informe a altura do aluno {}'.format(i))))\n",
    "    alunos.append(aluno)\n",
    "      \n",
    "soma_altura = 0.0\n",
    "    \n",
    "for aluno in alunos:\n",
    "    soma_altura += aluno[1]\n",
    "\n",
    "media_altura =soma_altura / float(totalAlunos)\n",
    "total_altos = 0    \n",
    "if aluno[0] > 13 and aluno[1] <= media_altura:\n",
    "    total_altos += 1\n",
    "print('Existem {} alunos com mais de 13 acima da média de altura '.format(total_altos))\n",
    "    "
   ]
  },
  {
   "cell_type": "markdown",
   "metadata": {},
   "source": [
    "#### 10. Faça um programa que receba a temperatura média de cada mês do ano e armazene-as em uma lista. Após isto, calcule a média anual das temperaturas e mostre todas as temperaturas acima da média anual, e em que mês elas ocorreram (mostrar o mês por extenso: 1 – Janeiro, 2 – Fevereiro, . . . )."
   ]
  },
  {
   "cell_type": "code",
   "execution_count": 52,
   "metadata": {},
   "outputs": [
    {
     "name": "stdin",
     "output_type": "stream",
     "text": [
      "Informe a temperatura do mês 0 35\n",
      "Informe a temperatura do mês 1 41\n",
      "Informe a temperatura do mês 2 43\n",
      "Informe a temperatura do mês 3 44\n",
      "Informe a temperatura do mês 4 32\n"
     ]
    },
    {
     "name": "stdout",
     "output_type": "stream",
     "text": [
      "39.0\n",
      "As temperaturas acima da media [41.0, 43.0, 44.0]\n"
     ]
    }
   ],
   "source": [
    "meses = ['Janeiro','fevereiro','março','junho','julho']\n",
    "temperaturas = []\n",
    "media_sem = 0\n",
    "for i in range(5):\n",
    "    \n",
    "    temperaturas.append(float(input('Informe a temperatura do mês {}'.format(i))))\n",
    "    media_sem +=temperaturas[i]\n",
    "    \n",
    "media_sem = media_sem / 5\n",
    "acima = []\n",
    "for i in range(5):\n",
    "    if temperaturas[i] > media_sem:\n",
    "        acima.append(temperaturas[i])\n",
    "        \n",
    "print(media_sem)\n",
    "print('As temperaturas acima da media {}'.format(acima))\n"
   ]
  },
  {
   "cell_type": "code",
   "execution_count": null,
   "metadata": {},
   "outputs": [],
   "source": []
  }
 ],
 "metadata": {
  "kernelspec": {
   "display_name": "Python 3",
   "language": "python",
   "name": "python3"
  },
  "language_info": {
   "codemirror_mode": {
    "name": "ipython",
    "version": 3
   },
   "file_extension": ".py",
   "mimetype": "text/x-python",
   "name": "python",
   "nbconvert_exporter": "python",
   "pygments_lexer": "ipython3",
   "version": "3.7.1"
  }
 },
 "nbformat": 4,
 "nbformat_minor": 2
}
