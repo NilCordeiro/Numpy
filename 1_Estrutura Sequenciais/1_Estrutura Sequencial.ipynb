{
 "cells": [
  {
   "cell_type": "markdown",
   "metadata": {},
   "source": [
    "# EXERCICIOS DE ESTRUTURA SEQUENCIAL "
   ]
  },
  {
   "cell_type": "markdown",
   "metadata": {},
   "source": [
    "#### 1_ Faça um programa que receba quatro numeros inteiros, calcule e mostre a soma deses números. "
   ]
  },
  {
   "cell_type": "code",
   "execution_count": 1,
   "metadata": {},
   "outputs": [
    {
     "name": "stdin",
     "output_type": "stream",
     "text": [
      "Informe o primeiro numero ! 10\n",
      "Informe o segundo numero ! 20\n",
      "Informe o terceiro numero ! 30\n",
      "Informe o quanto numero ! 40\n"
     ]
    },
    {
     "name": "stdout",
     "output_type": "stream",
     "text": [
      "O soma dos numeros inteiros é 100\n"
     ]
    }
   ],
   "source": [
    "numero_1 = int(input('Informe o primeiro numero !'))\n",
    "numero_2 = int(input('Informe o segundo numero !'))\n",
    "numero_3 = int(input('Informe o terceiro numero !'))\n",
    "numero_4 = int(input('Informe o quanto numero !'))\n",
    "\n",
    "soma = 0\n",
    "\n",
    "soma = numero_1 + numero_2 + numero_3 + numero_4\n",
    "\n",
    "print('O soma dos numeros inteiros é {}'.format(soma))\n"
   ]
  },
  {
   "cell_type": "markdown",
   "metadata": {},
   "source": [
    "#### 2_ Faça um programa que receba três notas, calcule e mostre média aritimética.  "
   ]
  },
  {
   "cell_type": "code",
   "execution_count": 3,
   "metadata": {},
   "outputs": [
    {
     "name": "stdin",
     "output_type": "stream",
     "text": [
      "Informe a primeira nota ! 10\n",
      "Informe a segunda nota ! 10\n",
      "Informe a terceira nota ! 10\n"
     ]
    },
    {
     "name": "stdout",
     "output_type": "stream",
     "text": [
      "A média das notas 10.0\n"
     ]
    }
   ],
   "source": [
    "nota_1 = int(input('Informe a primeira nota !'))\n",
    "nota_2 = int(input('Informe a segunda nota !'))\n",
    "nota_3 = int(input('Informe a terceira nota !'))\n",
    "\n",
    "media = 0\n",
    "\n",
    "media = (nota_1 + nota_2 + nota_3) / 3\n",
    "\n",
    "print('A média das notas {}'.format(media))\n"
   ]
  },
  {
   "cell_type": "markdown",
   "metadata": {},
   "source": [
    "#### 3_ Faça um programa que receba três notas e seus respectivos pesos, calcule e mostre a média ponderada."
   ]
  },
  {
   "cell_type": "code",
   "execution_count": 6,
   "metadata": {},
   "outputs": [
    {
     "name": "stdin",
     "output_type": "stream",
     "text": [
      "Informe a primeira nota ! 10\n",
      "Informe o peso da primeita nota nota ! 3\n",
      "Informe a segunda nota ! 7\n",
      "Informe o peso da segunda nota ! 5\n",
      "Informe a terceira nota ! 9\n",
      "Informe o peso da terceira nota ! 6\n"
     ]
    },
    {
     "name": "stdout",
     "output_type": "stream",
     "text": [
      "O resultado da media ponderada 8.5\n"
     ]
    }
   ],
   "source": [
    "nota_1 = int(input('Informe a primeira nota !'))\n",
    "peso_1 = int(input('Informe o peso da primeita nota nota !'))\n",
    "\n",
    "nota_2 = int(input('Informe a segunda nota !'))\n",
    "peso_2 = int(input('Informe o peso da segunda nota !'))\n",
    "\n",
    "nota_3 = int(input('Informe a terceira nota !'))\n",
    "peso_3 = int(input('Informe o peso da terceira nota !'))\n",
    "\n",
    "media = 0\n",
    "\n",
    "media = (nota_1 * peso_1 + nota_2 * peso_2 + nota_3 * peso_3 ) / (peso_1 + peso_2 + peso_3)\n",
    "\n",
    "print('O resultado da media ponderada {}'.format(media))"
   ]
  },
  {
   "cell_type": "markdown",
   "metadata": {},
   "source": [
    "#### 4_ Faça um programa que receba um salario de um funcionário, calcule e mostre o novo salario mesmo sabendo-se que este obteve um aumenro de 25%  "
   ]
  },
  {
   "cell_type": "code",
   "execution_count": 7,
   "metadata": {},
   "outputs": [
    {
     "name": "stdin",
     "output_type": "stream",
     "text": [
      "Informe o salário do funcionario ! 1200\n"
     ]
    },
    {
     "name": "stdout",
     "output_type": "stream",
     "text": [
      "O novo sálario do funcionario é 1500.0 com aumento de 25%\n"
     ]
    }
   ],
   "source": [
    "salario = float(input('Informe o salário do funcionario !'))\n",
    "percentual = 25 / 100\n",
    "novo_salario = salario + (salario * percentual)\n",
    "\n",
    "print('O novo sálario do funcionario é {} com aumento de 25%'.format(novo_salario))"
   ]
  },
  {
   "cell_type": "markdown",
   "metadata": {},
   "source": [
    "#### 5_ Faça um programa que receba um salário de um funcionario e o percentual de aumento, calcule e mostre o valor do aumento e o novo salário. "
   ]
  },
  {
   "cell_type": "code",
   "execution_count": 10,
   "metadata": {},
   "outputs": [
    {
     "name": "stdin",
     "output_type": "stream",
     "text": [
      "Informe o salário do funcionario ! 1200\n",
      "Informe o percentual de aumento do salário ! 25\n"
     ]
    },
    {
     "name": "stdout",
     "output_type": "stream",
     "text": [
      "O aumento do funcionario R$ 300.0 novo salário de R$ 1500.0\n"
     ]
    }
   ],
   "source": [
    "salario  = float(input('Informe o salário do funcionario !'))\n",
    "percentual = float(input('Informe o percentual de aumento do salário !'))\n",
    "novo_salario = 0\n",
    "aumento = 0\n",
    "\n",
    "aumento = salario * (percentual / 100)\n",
    "novo_salario = salario + aumento\n",
    "\n",
    "print('O aumento do funcionario R$ {} novo salário de R$ {}'.format(aumento,novo_salario))\n"
   ]
  },
  {
   "cell_type": "markdown",
   "metadata": {},
   "source": [
    "#### 6_ Faça um programa que receba o salário base de um funcionário, calcule e mostre o salário a receber, sabendo-se que o funcionário tem gratificação de 5% sobre o salário base e paga imposto de 7% também sobre o salário base.  "
   ]
  },
  {
   "cell_type": "code",
   "execution_count": 11,
   "metadata": {},
   "outputs": [
    {
     "name": "stdin",
     "output_type": "stream",
     "text": [
      "Informe o salário base do funcionario ! 1200\n"
     ]
    },
    {
     "name": "stdout",
     "output_type": "stream",
     "text": [
      "O salário a receber do funcionario R$ 1176.0\n"
     ]
    }
   ],
   "source": [
    "salario = float(input('Informe o salário base do funcionario !'))\n",
    "gratificacao = salario  * (5 /100)\n",
    "imposto = salario * (7 /100)\n",
    "novo_salario = 0\n",
    "\n",
    "novo_salario = (salario + gratificacao) - imposto\n",
    "\n",
    "print('O salário a receber do funcionario R$ {}'.format(novo_salario))"
   ]
  },
  {
   "cell_type": "markdown",
   "metadata": {},
   "source": [
    "#### 7_ Faça um programa que receba o salário base de um funcionário, calcule e mostre seu salário a receber, sabendo-se que o funcionário tem gratificação de R$ 50 e paga imposto de 10% sobre o salário base"
   ]
  },
  {
   "cell_type": "code",
   "execution_count": 13,
   "metadata": {},
   "outputs": [
    {
     "name": "stdin",
     "output_type": "stream",
     "text": [
      "informe o salário base do funcionario ! 1200\n"
     ]
    },
    {
     "name": "stdout",
     "output_type": "stream",
     "text": [
      "O salário a receber do funcionario é de R$ 1130.0\n"
     ]
    }
   ],
   "source": [
    "salario = float(input('informe o salário base do funcionario !'))\n",
    "grat = 50\n",
    "imposto = salario * 10 /100\n",
    "\n",
    "sal_receber = (salario + grat) - imposto\n",
    "\n",
    "print('O salário a receber do funcionario é de R$ {}'.format(sal_receber))"
   ]
  },
  {
   "cell_type": "markdown",
   "metadata": {},
   "source": [
    "#### 8_  Faça um programa que receba o valor de um depósito e o valor da taxa de juros, calcule e mostre o valor do rendimento e o valor total depois do rendimento."
   ]
  },
  {
   "cell_type": "code",
   "execution_count": 16,
   "metadata": {},
   "outputs": [
    {
     "name": "stdin",
     "output_type": "stream",
     "text": [
      "Informe o valor do deposito R$ ! 1200\n",
      "Informe o percentual da taxa de juros ! 10\n"
     ]
    },
    {
     "name": "stdout",
     "output_type": "stream",
     "text": [
      "O deposido de 1200.0 obteve um rendimento de 120.0 o valor total do montante é de R$ 1320.0\n"
     ]
    }
   ],
   "source": [
    "deposito = float(input('Informe o valor do deposito R$ !'))\n",
    "taxa_ju = float(input('Informe o percentual da taxa de juros !'))\n",
    "juros = deposito * taxa_ju / 100\n",
    "montante = deposito + juros\n",
    "\n",
    "print('O deposido de {} obteve um rendimento de {} o valor total do montante é de R$ {}'.format(deposito,juros,montante))\n"
   ]
  },
  {
   "cell_type": "markdown",
   "metadata": {},
   "source": [
    "#### 9_  Faça um programa que receba um número positivo e maior que zero, calcule e mostre: \n",
    "<br>a) o número digitado ao quadrado; \n",
    "<br>b) o número digitado ao cubo; \n",
    "<br>c) a raiz quadrada do número digitado; \n",
    "<br>d) a raiz cúbica do número digitado.     "
   ]
  },
  {
   "cell_type": "code",
   "execution_count": 20,
   "metadata": {},
   "outputs": [
    {
     "name": "stdin",
     "output_type": "stream",
     "text": [
      "Informe um numero ! 100\n"
     ]
    },
    {
     "name": "stdout",
     "output_type": "stream",
     "text": [
      "Ao quadrado 10000\n",
      "Ao cubo 1000000\n",
      "A Raiz quadrada 10.0\n",
      "A Raiz cubica 4.64\n"
     ]
    }
   ],
   "source": [
    "num = int(input('Informe um numero !'))\n",
    "quad = num ** 2\n",
    "cubica = num ** 3\n",
    "raiz_q = num ** (1/2)\n",
    "raiz_c = num ** (1/3)\n",
    "\n",
    "print('Ao quadrado {}'.format(quad))\n",
    "print('Ao cubo {}'.format(cubica))\n",
    "print('A Raiz quadrada {}'.format(raiz_q))\n",
    "print('A Raiz cubica {:.2f}'.format(raiz_c))"
   ]
  },
  {
   "cell_type": "markdown",
   "metadata": {},
   "source": [
    "#### 10_ Faça um programa que receba dois números maiores que zero, calcule e mostre um elevado ao outro. "
   ]
  },
  {
   "cell_type": "code",
   "execution_count": 24,
   "metadata": {},
   "outputs": [
    {
     "name": "stdin",
     "output_type": "stream",
     "text": [
      "Informe um numero ! 10\n",
      "Informe outro numero ! 2\n"
     ]
    },
    {
     "name": "stdout",
     "output_type": "stream",
     "text": [
      "numero 10 elevado a 2 = 100\n",
      "numero 2 elevado a 10 = 1024\n"
     ]
    }
   ],
   "source": [
    "num1 = int(input('Informe um numero !'))\n",
    "num2 = int(input('Informe outro numero !'))\n",
    "\n",
    "r1 = num1 ** num2\n",
    "r2 = num2 ** num1\n",
    "\n",
    "print('numero {} elevado a {} = {}'.format(num1,num2,r1))\n",
    "print('numero {} elevado a {} = {}'.format(num2,num1,r2))"
   ]
  },
  {
   "cell_type": "code",
   "execution_count": null,
   "metadata": {},
   "outputs": [],
   "source": []
  }
 ],
 "metadata": {
  "kernelspec": {
   "display_name": "Python 3",
   "language": "python",
   "name": "python3"
  },
  "language_info": {
   "codemirror_mode": {
    "name": "ipython",
    "version": 3
   },
   "file_extension": ".py",
   "mimetype": "text/x-python",
   "name": "python",
   "nbconvert_exporter": "python",
   "pygments_lexer": "ipython3",
   "version": "3.7.1"
  }
 },
 "nbformat": 4,
 "nbformat_minor": 2
}
